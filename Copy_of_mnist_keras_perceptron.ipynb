{
  "nbformat": 4,
  "nbformat_minor": 0,
  "metadata": {
    "colab": {
      "name": "Copy of mnist-keras-perceptron.ipynb",
      "provenance": [],
      "collapsed_sections": [],
      "include_colab_link": true
    },
    "kernelspec": {
      "name": "python3",
      "display_name": "Python 3"
    },
    "accelerator": "GPU"
  },
  "cells": [
    {
      "cell_type": "markdown",
      "metadata": {
        "id": "view-in-github",
        "colab_type": "text"
      },
      "source": [
        "<a href=\"https://colab.research.google.com/github/ranureka/ML-AI/blob/master/Copy_of_mnist_keras_perceptron.ipynb\" target=\"_parent\"><img src=\"https://colab.research.google.com/assets/colab-badge.svg\" alt=\"Open In Colab\"/></a>"
      ]
    },
    {
      "cell_type": "code",
      "metadata": {
        "id": "0rrbVKm5n6E3",
        "colab_type": "code",
        "colab": {}
      },
      "source": [
        "# taken from lukas/ml-class\n",
        "import numpy as np\n",
        "from keras.datasets import mnist\n",
        "from keras.models import Sequential\n",
        "from keras.layers import Dense, Flatten, Dropout\n",
        "from keras.utils import np_utils\n",
        "from keras.callbacks import Callback\n",
        "import json\n",
        "\n",
        "# from wandb.keras import WandbCallback\n",
        "# import wandb\n",
        "\n",
        "# run = wandb.init()\n",
        "# config = run.config\n",
        "\n",
        "\n"
      ],
      "execution_count": 0,
      "outputs": []
    },
    {
      "cell_type": "code",
      "metadata": {
        "id": "OMC4CKdOAvmc",
        "colab_type": "code",
        "colab": {
          "base_uri": "https://localhost:8080/",
          "height": 34
        },
        "outputId": "df157df6-8f92-4cab-8646-d259f2571233"
      },
      "source": [
        "1+1"
      ],
      "execution_count": 2,
      "outputs": [
        {
          "output_type": "execute_result",
          "data": {
            "text/plain": [
              "2"
            ]
          },
          "metadata": {
            "tags": []
          },
          "execution_count": 2
        }
      ]
    },
    {
      "cell_type": "markdown",
      "metadata": {
        "id": "rMeAL5GRAyu6",
        "colab_type": "text"
      },
      "source": [
        "###hello world\n",
        "1.one\n",
        "2.two\n",
        "3.three\n",
        "\n",
        "lajefl\n",
        "asef;li\n",
        "\n",
        "- hello\n",
        "- world\n",
        "\n",
        "Hello the $\\alpha$ is a greek letter.\n",
        "\n",
        "$$\\alpha + \\beta \\gamma = \\delta $$\n",
        "\n",
        "---\n",
        "*alpha* **alpha**\n"
      ]
    },
    {
      "cell_type": "code",
      "metadata": {
        "id": "7t3rxeoMErOT",
        "colab_type": "code",
        "colab": {
          "base_uri": "https://localhost:8080/",
          "height": 34
        },
        "outputId": "cf2c01ce-76ea-492f-a4b7-1e4e6365ab57"
      },
      "source": [
        "a=(1,2)\n",
        "type(a)"
      ],
      "execution_count": 3,
      "outputs": [
        {
          "output_type": "execute_result",
          "data": {
            "text/plain": [
              "tuple"
            ]
          },
          "metadata": {
            "tags": []
          },
          "execution_count": 3
        }
      ]
    },
    {
      "cell_type": "code",
      "metadata": {
        "id": "A3UHM4DzE1-1",
        "colab_type": "code",
        "colab": {
          "base_uri": "https://localhost:8080/",
          "height": 34
        },
        "outputId": "5ca3aa64-a895-45c5-9197-e7dcb937fada"
      },
      "source": [
        "a"
      ],
      "execution_count": 4,
      "outputs": [
        {
          "output_type": "execute_result",
          "data": {
            "text/plain": [
              "(1, 2)"
            ]
          },
          "metadata": {
            "tags": []
          },
          "execution_count": 4
        }
      ]
    },
    {
      "cell_type": "code",
      "metadata": {
        "id": "MoGd1Ss998MV",
        "colab_type": "code",
        "colab": {
          "base_uri": "https://localhost:8080/",
          "height": 34
        },
        "outputId": "702d5153-f7e3-4b16-fd5e-6996864dba55"
      },
      "source": [
        "class Config:\n",
        "  pass\n",
        "\n",
        "config = Config()\n",
        "config.optimizer = \"adam\"\n",
        "config.epochs = 30\n",
        "config.hidden_nodes = 30\n",
        "\n",
        "# load data\n",
        "(X_train, y_train), (X_test, y_test) = mnist.load_data()\n",
        "print(X_train.shape, y_train.shape)\n",
        "img_width = X_train.shape[1]\n",
        "img_height = X_train.shape[2]\n",
        "\n",
        "#X_train = X_train.astype('float32')\n",
        "#X_train /= 255.\n",
        "#X_test = X_test.astype('float32')\n",
        "#X_test /= 255.\n",
        "\n",
        "# Normalize, change learning rate, play with layer size, batchsize\n",
        "\n",
        "# one hot encode outputs\n",
        "y_train = np_utils.to_categorical(y_train)\n",
        "y_test = np_utils.to_categorical(y_test)\n",
        "labels = range(10)\n",
        "\n",
        "num_classes = y_train.shape[1]\n",
        "\n"
      ],
      "execution_count": 21,
      "outputs": [
        {
          "output_type": "stream",
          "text": [
            "(60000, 28, 28) (60000,)\n"
          ],
          "name": "stdout"
        }
      ]
    },
    {
      "cell_type": "code",
      "metadata": {
        "id": "jZVRzdXlHEyH",
        "colab_type": "code",
        "colab": {
          "base_uri": "https://localhost:8080/",
          "height": 34
        },
        "outputId": "5f345ec2-95a8-4e65-d963-0ef6eaea5352"
      },
      "source": [
        "X_train.shape"
      ],
      "execution_count": 5,
      "outputs": [
        {
          "output_type": "execute_result",
          "data": {
            "text/plain": [
              "(60000, 28, 28)"
            ]
          },
          "metadata": {
            "tags": []
          },
          "execution_count": 5
        }
      ]
    },
    {
      "cell_type": "code",
      "metadata": {
        "id": "5XfLd6G0F2ob",
        "colab_type": "code",
        "colab": {
          "base_uri": "https://localhost:8080/",
          "height": 34
        },
        "outputId": "ebcaff00-003b-469b-8c8d-0208dbedf9d5"
      },
      "source": [
        "y_train[0]"
      ],
      "execution_count": 11,
      "outputs": [
        {
          "output_type": "execute_result",
          "data": {
            "text/plain": [
              "array([0., 0., 0., 0., 0., 1., 0., 0., 0., 0.], dtype=float32)"
            ]
          },
          "metadata": {
            "tags": []
          },
          "execution_count": 11
        }
      ]
    },
    {
      "cell_type": "code",
      "metadata": {
        "id": "zW2O4p_wFYSi",
        "colab_type": "code",
        "colab": {
          "base_uri": "https://localhost:8080/",
          "height": 1000
        },
        "outputId": "e8581850-0bdd-4631-b624-6fe3a2718d7c"
      },
      "source": [
        "X_train[0]"
      ],
      "execution_count": 10,
      "outputs": [
        {
          "output_type": "execute_result",
          "data": {
            "text/plain": [
              "array([[  0,   0,   0,   0,   0,   0,   0,   0,   0,   0,   0,   0,   0,\n",
              "          0,   0,   0,   0,   0,   0,   0,   0,   0,   0,   0,   0,   0,\n",
              "          0,   0],\n",
              "       [  0,   0,   0,   0,   0,   0,   0,   0,   0,   0,   0,   0,   0,\n",
              "          0,   0,   0,   0,   0,   0,   0,   0,   0,   0,   0,   0,   0,\n",
              "          0,   0],\n",
              "       [  0,   0,   0,   0,   0,   0,   0,   0,   0,   0,   0,   0,   0,\n",
              "          0,   0,   0,   0,   0,   0,   0,   0,   0,   0,   0,   0,   0,\n",
              "          0,   0],\n",
              "       [  0,   0,   0,   0,   0,   0,   0,   0,   0,   0,   0,   0,   0,\n",
              "          0,   0,   0,   0,   0,   0,   0,   0,   0,   0,   0,   0,   0,\n",
              "          0,   0],\n",
              "       [  0,   0,   0,   0,   0,   0,   0,   0,   0,   0,   0,   0,   0,\n",
              "          0,   0,   0,   0,   0,   0,   0,   0,   0,   0,   0,   0,   0,\n",
              "          0,   0],\n",
              "       [  0,   0,   0,   0,   0,   0,   0,   0,   0,   0,   0,   0,   3,\n",
              "         18,  18,  18, 126, 136, 175,  26, 166, 255, 247, 127,   0,   0,\n",
              "          0,   0],\n",
              "       [  0,   0,   0,   0,   0,   0,   0,   0,  30,  36,  94, 154, 170,\n",
              "        253, 253, 253, 253, 253, 225, 172, 253, 242, 195,  64,   0,   0,\n",
              "          0,   0],\n",
              "       [  0,   0,   0,   0,   0,   0,   0,  49, 238, 253, 253, 253, 253,\n",
              "        253, 253, 253, 253, 251,  93,  82,  82,  56,  39,   0,   0,   0,\n",
              "          0,   0],\n",
              "       [  0,   0,   0,   0,   0,   0,   0,  18, 219, 253, 253, 253, 253,\n",
              "        253, 198, 182, 247, 241,   0,   0,   0,   0,   0,   0,   0,   0,\n",
              "          0,   0],\n",
              "       [  0,   0,   0,   0,   0,   0,   0,   0,  80, 156, 107, 253, 253,\n",
              "        205,  11,   0,  43, 154,   0,   0,   0,   0,   0,   0,   0,   0,\n",
              "          0,   0],\n",
              "       [  0,   0,   0,   0,   0,   0,   0,   0,   0,  14,   1, 154, 253,\n",
              "         90,   0,   0,   0,   0,   0,   0,   0,   0,   0,   0,   0,   0,\n",
              "          0,   0],\n",
              "       [  0,   0,   0,   0,   0,   0,   0,   0,   0,   0,   0, 139, 253,\n",
              "        190,   2,   0,   0,   0,   0,   0,   0,   0,   0,   0,   0,   0,\n",
              "          0,   0],\n",
              "       [  0,   0,   0,   0,   0,   0,   0,   0,   0,   0,   0,  11, 190,\n",
              "        253,  70,   0,   0,   0,   0,   0,   0,   0,   0,   0,   0,   0,\n",
              "          0,   0],\n",
              "       [  0,   0,   0,   0,   0,   0,   0,   0,   0,   0,   0,   0,  35,\n",
              "        241, 225, 160, 108,   1,   0,   0,   0,   0,   0,   0,   0,   0,\n",
              "          0,   0],\n",
              "       [  0,   0,   0,   0,   0,   0,   0,   0,   0,   0,   0,   0,   0,\n",
              "         81, 240, 253, 253, 119,  25,   0,   0,   0,   0,   0,   0,   0,\n",
              "          0,   0],\n",
              "       [  0,   0,   0,   0,   0,   0,   0,   0,   0,   0,   0,   0,   0,\n",
              "          0,  45, 186, 253, 253, 150,  27,   0,   0,   0,   0,   0,   0,\n",
              "          0,   0],\n",
              "       [  0,   0,   0,   0,   0,   0,   0,   0,   0,   0,   0,   0,   0,\n",
              "          0,   0,  16,  93, 252, 253, 187,   0,   0,   0,   0,   0,   0,\n",
              "          0,   0],\n",
              "       [  0,   0,   0,   0,   0,   0,   0,   0,   0,   0,   0,   0,   0,\n",
              "          0,   0,   0,   0, 249, 253, 249,  64,   0,   0,   0,   0,   0,\n",
              "          0,   0],\n",
              "       [  0,   0,   0,   0,   0,   0,   0,   0,   0,   0,   0,   0,   0,\n",
              "          0,  46, 130, 183, 253, 253, 207,   2,   0,   0,   0,   0,   0,\n",
              "          0,   0],\n",
              "       [  0,   0,   0,   0,   0,   0,   0,   0,   0,   0,   0,   0,  39,\n",
              "        148, 229, 253, 253, 253, 250, 182,   0,   0,   0,   0,   0,   0,\n",
              "          0,   0],\n",
              "       [  0,   0,   0,   0,   0,   0,   0,   0,   0,   0,  24, 114, 221,\n",
              "        253, 253, 253, 253, 201,  78,   0,   0,   0,   0,   0,   0,   0,\n",
              "          0,   0],\n",
              "       [  0,   0,   0,   0,   0,   0,   0,   0,  23,  66, 213, 253, 253,\n",
              "        253, 253, 198,  81,   2,   0,   0,   0,   0,   0,   0,   0,   0,\n",
              "          0,   0],\n",
              "       [  0,   0,   0,   0,   0,   0,  18, 171, 219, 253, 253, 253, 253,\n",
              "        195,  80,   9,   0,   0,   0,   0,   0,   0,   0,   0,   0,   0,\n",
              "          0,   0],\n",
              "       [  0,   0,   0,   0,  55, 172, 226, 253, 253, 253, 253, 244, 133,\n",
              "         11,   0,   0,   0,   0,   0,   0,   0,   0,   0,   0,   0,   0,\n",
              "          0,   0],\n",
              "       [  0,   0,   0,   0, 136, 253, 253, 253, 212, 135, 132,  16,   0,\n",
              "          0,   0,   0,   0,   0,   0,   0,   0,   0,   0,   0,   0,   0,\n",
              "          0,   0],\n",
              "       [  0,   0,   0,   0,   0,   0,   0,   0,   0,   0,   0,   0,   0,\n",
              "          0,   0,   0,   0,   0,   0,   0,   0,   0,   0,   0,   0,   0,\n",
              "          0,   0],\n",
              "       [  0,   0,   0,   0,   0,   0,   0,   0,   0,   0,   0,   0,   0,\n",
              "          0,   0,   0,   0,   0,   0,   0,   0,   0,   0,   0,   0,   0,\n",
              "          0,   0],\n",
              "       [  0,   0,   0,   0,   0,   0,   0,   0,   0,   0,   0,   0,   0,\n",
              "          0,   0,   0,   0,   0,   0,   0,   0,   0,   0,   0,   0,   0,\n",
              "          0,   0]], dtype=uint8)"
            ]
          },
          "metadata": {
            "tags": []
          },
          "execution_count": 10
        }
      ]
    },
    {
      "cell_type": "code",
      "metadata": {
        "id": "UNlNjtvs-Dh8",
        "colab_type": "code",
        "colab": {
          "base_uri": "https://localhost:8080/",
          "height": 479
        },
        "outputId": "7cedce97-b636-469d-e57b-20e5a55565f2"
      },
      "source": [
        "\n",
        "# create model\n",
        "model = Sequential()\n",
        "model.add(Flatten(input_shape=(img_width, img_height)))\n",
        "model.add(Dense(config.hidden_nodes, activation='relu'))\n",
        "model.add(Dense(config.hidden_nodes, activation='relu'))\n",
        "model.add(Dense(num_classes, activation='softmax'))\n",
        "model.compile(loss='categorical_crossentropy', optimizer=config.optimizer,\n",
        "              metrics=['accuracy'])\n",
        "model.summary()"
      ],
      "execution_count": 22,
      "outputs": [
        {
          "output_type": "stream",
          "text": [
            "WARNING:tensorflow:From /usr/local/lib/python3.6/dist-packages/keras/backend/tensorflow_backend.py:66: The name tf.get_default_graph is deprecated. Please use tf.compat.v1.get_default_graph instead.\n",
            "\n",
            "WARNING:tensorflow:From /usr/local/lib/python3.6/dist-packages/keras/backend/tensorflow_backend.py:541: The name tf.placeholder is deprecated. Please use tf.compat.v1.placeholder instead.\n",
            "\n",
            "WARNING:tensorflow:From /usr/local/lib/python3.6/dist-packages/keras/backend/tensorflow_backend.py:4432: The name tf.random_uniform is deprecated. Please use tf.random.uniform instead.\n",
            "\n",
            "WARNING:tensorflow:From /usr/local/lib/python3.6/dist-packages/keras/optimizers.py:793: The name tf.train.Optimizer is deprecated. Please use tf.compat.v1.train.Optimizer instead.\n",
            "\n",
            "WARNING:tensorflow:From /usr/local/lib/python3.6/dist-packages/keras/backend/tensorflow_backend.py:3576: The name tf.log is deprecated. Please use tf.math.log instead.\n",
            "\n",
            "Model: \"sequential_1\"\n",
            "_________________________________________________________________\n",
            "Layer (type)                 Output Shape              Param #   \n",
            "=================================================================\n",
            "flatten_1 (Flatten)          (None, 784)               0         \n",
            "_________________________________________________________________\n",
            "dense_1 (Dense)              (None, 30)                23550     \n",
            "_________________________________________________________________\n",
            "dense_2 (Dense)              (None, 30)                930       \n",
            "_________________________________________________________________\n",
            "dense_3 (Dense)              (None, 10)                310       \n",
            "=================================================================\n",
            "Total params: 24,790\n",
            "Trainable params: 24,790\n",
            "Non-trainable params: 0\n",
            "_________________________________________________________________\n"
          ],
          "name": "stdout"
        }
      ]
    },
    {
      "cell_type": "code",
      "metadata": {
        "id": "Rd6PUmbd-DuU",
        "colab_type": "code",
        "colab": {
          "base_uri": "https://localhost:8080/",
          "height": 1000
        },
        "outputId": "9c535e7f-400e-43aa-cfd9-39a1cfb0a3d7"
      },
      "source": [
        "# Fit the model\n",
        "history = model.fit(X_train, y_train, validation_data=(X_test, y_test),\n",
        "          epochs=config.epochs)"
      ],
      "execution_count": 23,
      "outputs": [
        {
          "output_type": "stream",
          "text": [
            "WARNING:tensorflow:From /usr/local/lib/python3.6/dist-packages/tensorflow/python/ops/math_grad.py:1250: add_dispatch_support.<locals>.wrapper (from tensorflow.python.ops.array_ops) is deprecated and will be removed in a future version.\n",
            "Instructions for updating:\n",
            "Use tf.where in 2.0, which has the same broadcast rule as np.where\n",
            "WARNING:tensorflow:From /usr/local/lib/python3.6/dist-packages/keras/backend/tensorflow_backend.py:1033: The name tf.assign_add is deprecated. Please use tf.compat.v1.assign_add instead.\n",
            "\n",
            "Train on 60000 samples, validate on 10000 samples\n",
            "Epoch 1/30\n",
            "60000/60000 [==============================] - 12s 197us/step - loss: 5.1241 - acc: 0.6642 - val_loss: 2.7206 - val_acc: 0.8155\n",
            "Epoch 2/30\n",
            "60000/60000 [==============================] - 7s 114us/step - loss: 2.6114 - acc: 0.8222 - val_loss: 2.4902 - val_acc: 0.8315\n",
            "Epoch 3/30\n",
            "60000/60000 [==============================] - 7s 114us/step - loss: 2.4186 - acc: 0.8351 - val_loss: 2.3875 - val_acc: 0.8400\n",
            "Epoch 4/30\n",
            "60000/60000 [==============================] - 7s 114us/step - loss: 2.3142 - acc: 0.8401 - val_loss: 2.2365 - val_acc: 0.8477\n",
            "Epoch 5/30\n",
            "60000/60000 [==============================] - 7s 114us/step - loss: 2.2153 - acc: 0.8411 - val_loss: 2.1557 - val_acc: 0.8292\n",
            "Epoch 6/30\n",
            "60000/60000 [==============================] - 7s 116us/step - loss: 2.1126 - acc: 0.8430 - val_loss: 2.0376 - val_acc: 0.8431\n",
            "Epoch 7/30\n",
            "60000/60000 [==============================] - 7s 114us/step - loss: 1.9852 - acc: 0.8427 - val_loss: 1.9121 - val_acc: 0.8439\n",
            "Epoch 8/30\n",
            "60000/60000 [==============================] - 7s 113us/step - loss: 0.6096 - acc: 0.8797 - val_loss: 0.3635 - val_acc: 0.9231\n",
            "Epoch 9/30\n",
            "60000/60000 [==============================] - 7s 114us/step - loss: 0.3358 - acc: 0.9274 - val_loss: 0.3170 - val_acc: 0.9276\n",
            "Epoch 10/30\n",
            "60000/60000 [==============================] - 7s 115us/step - loss: 0.2747 - acc: 0.9357 - val_loss: 0.2601 - val_acc: 0.9358\n",
            "Epoch 11/30\n",
            "60000/60000 [==============================] - 7s 113us/step - loss: 0.2358 - acc: 0.9427 - val_loss: 0.2507 - val_acc: 0.9388\n",
            "Epoch 12/30\n",
            "60000/60000 [==============================] - 7s 113us/step - loss: 0.2058 - acc: 0.9464 - val_loss: 0.2503 - val_acc: 0.9361\n",
            "Epoch 13/30\n",
            "60000/60000 [==============================] - 7s 114us/step - loss: 0.1971 - acc: 0.9494 - val_loss: 0.2319 - val_acc: 0.9399\n",
            "Epoch 14/30\n",
            "60000/60000 [==============================] - 7s 113us/step - loss: 0.1813 - acc: 0.9515 - val_loss: 0.2382 - val_acc: 0.9400\n",
            "Epoch 15/30\n",
            "60000/60000 [==============================] - 7s 114us/step - loss: 0.1723 - acc: 0.9541 - val_loss: 0.2148 - val_acc: 0.9437\n",
            "Epoch 16/30\n",
            "60000/60000 [==============================] - 7s 113us/step - loss: 0.1592 - acc: 0.9563 - val_loss: 0.2084 - val_acc: 0.9456\n",
            "Epoch 17/30\n",
            "60000/60000 [==============================] - 7s 114us/step - loss: 0.1544 - acc: 0.9574 - val_loss: 0.1976 - val_acc: 0.9497\n",
            "Epoch 18/30\n",
            "60000/60000 [==============================] - 7s 114us/step - loss: 0.1468 - acc: 0.9594 - val_loss: 0.2120 - val_acc: 0.9459\n",
            "Epoch 19/30\n",
            "60000/60000 [==============================] - 7s 114us/step - loss: 0.1427 - acc: 0.9604 - val_loss: 0.2052 - val_acc: 0.9478\n",
            "Epoch 20/30\n",
            "60000/60000 [==============================] - 7s 113us/step - loss: 0.1383 - acc: 0.9613 - val_loss: 0.1969 - val_acc: 0.9494\n",
            "Epoch 21/30\n",
            "60000/60000 [==============================] - 7s 115us/step - loss: 0.1316 - acc: 0.9635 - val_loss: 0.2213 - val_acc: 0.9443\n",
            "Epoch 22/30\n",
            "60000/60000 [==============================] - 7s 117us/step - loss: 0.1290 - acc: 0.9640 - val_loss: 0.2006 - val_acc: 0.9517\n",
            "Epoch 23/30\n",
            "60000/60000 [==============================] - 7s 115us/step - loss: 0.1244 - acc: 0.9659 - val_loss: 0.1974 - val_acc: 0.9548\n",
            "Epoch 24/30\n",
            "60000/60000 [==============================] - 7s 114us/step - loss: 0.1235 - acc: 0.9661 - val_loss: 0.2028 - val_acc: 0.9513\n",
            "Epoch 25/30\n",
            "60000/60000 [==============================] - 7s 114us/step - loss: 0.1231 - acc: 0.9662 - val_loss: 0.1957 - val_acc: 0.9558\n",
            "Epoch 26/30\n",
            "60000/60000 [==============================] - 7s 112us/step - loss: 0.1155 - acc: 0.9678 - val_loss: 0.1974 - val_acc: 0.9554\n",
            "Epoch 27/30\n",
            "60000/60000 [==============================] - 7s 113us/step - loss: 0.1130 - acc: 0.9685 - val_loss: 0.1976 - val_acc: 0.9573\n",
            "Epoch 28/30\n",
            "60000/60000 [==============================] - 7s 113us/step - loss: 0.1128 - acc: 0.9685 - val_loss: 0.1961 - val_acc: 0.9559\n",
            "Epoch 29/30\n",
            "60000/60000 [==============================] - 7s 113us/step - loss: 0.1107 - acc: 0.9693 - val_loss: 0.1981 - val_acc: 0.9554\n",
            "Epoch 30/30\n",
            "60000/60000 [==============================] - 7s 112us/step - loss: 0.1108 - acc: 0.9699 - val_loss: 0.2002 - val_acc: 0.9556\n"
          ],
          "name": "stdout"
        }
      ]
    },
    {
      "cell_type": "code",
      "metadata": {
        "id": "-U7fft4_ehVx",
        "colab_type": "code",
        "colab": {
          "base_uri": "https://localhost:8080/",
          "height": 833
        },
        "outputId": "6b418367-28af-4c90-acae-c394d627c926"
      },
      "source": [
        "dir()"
      ],
      "execution_count": 6,
      "outputs": [
        {
          "output_type": "execute_result",
          "data": {
            "text/plain": [
              "['Callback',\n",
              " 'Config',\n",
              " 'Dense',\n",
              " 'Dropout',\n",
              " 'Flatten',\n",
              " 'In',\n",
              " 'Out',\n",
              " 'Sequential',\n",
              " 'X_test',\n",
              " 'X_train',\n",
              " '_',\n",
              " '_5',\n",
              " '__',\n",
              " '___',\n",
              " '__builtin__',\n",
              " '__builtins__',\n",
              " '__doc__',\n",
              " '__loader__',\n",
              " '__name__',\n",
              " '__package__',\n",
              " '__spec__',\n",
              " '_dh',\n",
              " '_i',\n",
              " '_i1',\n",
              " '_i2',\n",
              " '_i3',\n",
              " '_i4',\n",
              " '_i5',\n",
              " '_i6',\n",
              " '_ih',\n",
              " '_ii',\n",
              " '_iii',\n",
              " '_oh',\n",
              " '_sh',\n",
              " 'config',\n",
              " 'exit',\n",
              " 'get_ipython',\n",
              " 'img_height',\n",
              " 'img_width',\n",
              " 'json',\n",
              " 'labels',\n",
              " 'mnist',\n",
              " 'np',\n",
              " 'np_utils',\n",
              " 'num_classes',\n",
              " 'quit',\n",
              " 'y_test',\n",
              " 'y_train']"
            ]
          },
          "metadata": {
            "tags": []
          },
          "execution_count": 6
        }
      ]
    },
    {
      "cell_type": "code",
      "metadata": {
        "id": "G92ujubNe3Fa",
        "colab_type": "code",
        "colab": {
          "base_uri": "https://localhost:8080/",
          "height": 527
        },
        "outputId": "1ab3d6f4-0c54-46bc-c956-795f48879c83"
      },
      "source": [
        "history.epoch"
      ],
      "execution_count": 24,
      "outputs": [
        {
          "output_type": "execute_result",
          "data": {
            "text/plain": [
              "[0,\n",
              " 1,\n",
              " 2,\n",
              " 3,\n",
              " 4,\n",
              " 5,\n",
              " 6,\n",
              " 7,\n",
              " 8,\n",
              " 9,\n",
              " 10,\n",
              " 11,\n",
              " 12,\n",
              " 13,\n",
              " 14,\n",
              " 15,\n",
              " 16,\n",
              " 17,\n",
              " 18,\n",
              " 19,\n",
              " 20,\n",
              " 21,\n",
              " 22,\n",
              " 23,\n",
              " 24,\n",
              " 25,\n",
              " 26,\n",
              " 27,\n",
              " 28,\n",
              " 29]"
            ]
          },
          "metadata": {
            "tags": []
          },
          "execution_count": 24
        }
      ]
    },
    {
      "cell_type": "code",
      "metadata": {
        "id": "n1H82-iIgAD9",
        "colab_type": "code",
        "colab": {}
      },
      "source": [
        "import matplotlib.pyplot as plt"
      ],
      "execution_count": 0,
      "outputs": []
    },
    {
      "cell_type": "code",
      "metadata": {
        "id": "pAtmgeQagn5x",
        "colab_type": "code",
        "colab": {
          "base_uri": "https://localhost:8080/",
          "height": 286
        },
        "outputId": "b2cd996e-66ea-4efd-c885-9ecf62fc980d"
      },
      "source": [
        "plt.plot(history.history[\"acc\"])\n",
        "plt.plot(history.history[\"val_acc\"])"
      ],
      "execution_count": 31,
      "outputs": [
        {
          "output_type": "execute_result",
          "data": {
            "text/plain": [
              "[<matplotlib.lines.Line2D at 0x7fdf1c197278>]"
            ]
          },
          "metadata": {
            "tags": []
          },
          "execution_count": 31
        },
        {
          "output_type": "display_data",
          "data": {
            "image/png": "[encoded data removed]",
            "text/plain": [
              "<Figure size 432x288 with 1 Axes>"
            ]
          },
          "metadata": {
            "tags": []
          }
        }
      ]
    },
    {
      "cell_type": "code",
      "metadata": {
        "id": "_6iNy1DpirAs",
        "colab_type": "code",
        "colab": {}
      },
      "source": [
        "a = np.arange(-100 , 100, 0.1)\n",
        "b = np.arange(-100 , 100, 0.1)\n",
        "c=lambda a,b: (a + b -2 )**2"
      ],
      "execution_count": 0,
      "outputs": []
    },
    {
      "cell_type": "code",
      "metadata": {
        "id": "P4NrpvshjR6k",
        "colab_type": "code",
        "colab": {
          "base_uri": "https://localhost:8080/",
          "height": 286
        },
        "outputId": "2a746470-ab05-451f-8693-6a0c496dd206"
      },
      "source": [
        "plt.plot(a,c(a, 0))"
      ],
      "execution_count": 30,
      "outputs": [
        {
          "output_type": "execute_result",
          "data": {
            "text/plain": [
              "[<matplotlib.lines.Line2D at 0x7fdf1c176160>]"
            ]
          },
          "metadata": {
            "tags": []
          },
          "execution_count": 30
        },
        {
          "output_type": "display_data",
          "data": {
            "image/png": "[encoded data removed]",
            "text/plain": [
              "<Figure size 432x288 with 1 Axes>"
            ]
          },
          "metadata": {
            "tags": []
          }
        }
      ]
    },
    {
      "cell_type": "code",
      "metadata": {
        "id": "hnp3c2NrliYt",
        "colab_type": "code",
        "colab": {
          "base_uri": "https://localhost:8080/",
          "height": 34
        },
        "outputId": "f6a4b6c0-760e-4536-9add-73309fe1f10c"
      },
      "source": [
        "history"
      ],
      "execution_count": 32,
      "outputs": [
        {
          "output_type": "execute_result",
          "data": {
            "text/plain": [
              "<keras.callbacks.History at 0x7fdf2b5eceb8>"
            ]
          },
          "metadata": {
            "tags": []
          },
          "execution_count": 32
        }
      ]
    },
    {
      "cell_type": "code",
      "metadata": {
        "id": "_PKkS8Ewjhg8",
        "colab_type": "code",
        "colab": {}
      },
      "source": [
        "epochs = history.epoch"
      ],
      "execution_count": 0,
      "outputs": []
    },
    {
      "cell_type": "code",
      "metadata": {
        "id": "WP7QcugtlwLc",
        "colab_type": "code",
        "colab": {
          "base_uri": "https://localhost:8080/",
          "height": 34
        },
        "outputId": "2abe55c0-feca-4ad9-a66b-4e4abc97f7f5"
      },
      "source": [
        "type(history.history)"
      ],
      "execution_count": 34,
      "outputs": [
        {
          "output_type": "execute_result",
          "data": {
            "text/plain": [
              "dict"
            ]
          },
          "metadata": {
            "tags": []
          },
          "execution_count": 34
        }
      ]
    },
    {
      "cell_type": "code",
      "metadata": {
        "id": "V5oAmdmRl2bV",
        "colab_type": "code",
        "colab": {
          "base_uri": "https://localhost:8080/",
          "height": 34
        },
        "outputId": "8e58a6d1-32df-4462-edd5-58a67da4072c"
      },
      "source": [
        "history.history.keys()"
      ],
      "execution_count": 35,
      "outputs": [
        {
          "output_type": "execute_result",
          "data": {
            "text/plain": [
              "dict_keys(['val_loss', 'val_acc', 'loss', 'acc'])"
            ]
          },
          "metadata": {
            "tags": []
          },
          "execution_count": 35
        }
      ]
    },
    {
      "cell_type": "code",
      "metadata": {
        "id": "w31bIjtfl6Ja",
        "colab_type": "code",
        "colab": {
          "base_uri": "https://localhost:8080/",
          "height": 527
        },
        "outputId": "5ecb4622-b4c0-4e54-e8f6-38cd9e5cdd15"
      },
      "source": [
        "history.history[\"acc\"]"
      ],
      "execution_count": 36,
      "outputs": [
        {
          "output_type": "execute_result",
          "data": {
            "text/plain": [
              "[0.6641833333333333,\n",
              " 0.8222,\n",
              " 0.8351,\n",
              " 0.84015,\n",
              " 0.8411,\n",
              " 0.84305,\n",
              " 0.8426833333333333,\n",
              " 0.8797166666666667,\n",
              " 0.9273666666666667,\n",
              " 0.9356833333333333,\n",
              " 0.9426666666666667,\n",
              " 0.9464,\n",
              " 0.9494,\n",
              " 0.9515333333333333,\n",
              " 0.9540666666666666,\n",
              " 0.9563333333333334,\n",
              " 0.9573833333333334,\n",
              " 0.95935,\n",
              " 0.96035,\n",
              " 0.9612833333333334,\n",
              " 0.9634666666666667,\n",
              " 0.9640166666666666,\n",
              " 0.96595,\n",
              " 0.96615,\n",
              " 0.96625,\n",
              " 0.9677833333333333,\n",
              " 0.9685,\n",
              " 0.9684833333333334,\n",
              " 0.9692833333333334,\n",
              " 0.9699333333333333]"
            ]
          },
          "metadata": {
            "tags": []
          },
          "execution_count": 36
        }
      ]
    },
    {
      "cell_type": "code",
      "metadata": {
        "id": "QvdJd_5nmSIl",
        "colab_type": "code",
        "colab": {
          "base_uri": "https://localhost:8080/",
          "height": 286
        },
        "outputId": "e680593d-8f8e-4bab-ca09-69f62fc98aeb"
      },
      "source": [
        "plt.plot(history.epoch, history.history['acc'])\n",
        "plt.plot(history.epoch, history.history['val_acc'])"
      ],
      "execution_count": 37,
      "outputs": [
        {
          "output_type": "execute_result",
          "data": {
            "text/plain": [
              "[<matplotlib.lines.Line2D at 0x7fdf1c10ef98>]"
            ]
          },
          "metadata": {
            "tags": []
          },
          "execution_count": 37
        },
        {
          "output_type": "display_data",
          "data": {
            "image/png": "[encoded data removed]",
            "text/plain": [
              "<Figure size 432x288 with 1 Axes>"
            ]
          },
          "metadata": {
            "tags": []
          }
        }
      ]
    },
    {
      "cell_type": "code",
      "metadata": {
        "id": "v5emtAKUmlmf",
        "colab_type": "code",
        "colab": {}
      },
      "source": [
        ""
      ],
      "execution_count": 0,
      "outputs": []
    }
  ]
}